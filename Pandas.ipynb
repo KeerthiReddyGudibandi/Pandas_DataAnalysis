{
  "nbformat": 4,
  "nbformat_minor": 0,
  "metadata": {
    "colab": {
      "provenance": []
    },
    "kernelspec": {
      "name": "python3",
      "display_name": "Python 3"
    },
    "language_info": {
      "name": "python"
    }
  },
  "cells": [
    {
      "cell_type": "code",
      "execution_count": null,
      "metadata": {
        "colab": {
          "base_uri": "https://localhost:8080/"
        },
        "id": "lKou-q7fkZBw",
        "outputId": "6afd2812-0ad7-423e-dd7e-4f7e62f37325"
      },
      "outputs": [
        {
          "output_type": "stream",
          "name": "stdout",
          "text": [
            "0    10\n",
            "1    20\n",
            "2    30\n",
            "3    40\n",
            "4    50\n",
            "dtype: int64\n"
          ]
        }
      ],
      "source": [
        "#Create a Pandas Series from a Python list.\n",
        "import pandas as pd\n",
        "\n",
        "# Create a Python list\n",
        "my_list = [10, 20, 30, 40, 50]\n",
        "\n",
        "# Create a Pandas Series from the list\n",
        "my_series = pd.Series(my_list)\n",
        "\n",
        "print(my_series)"
      ]
    },
    {
      "cell_type": "code",
      "source": [
        "#Convert a dictionary into a Pandas DataFrame.\n",
        "import pandas as pd\n",
        "data = {\n",
        "    'Name': ['rose', 'Bob', 'Charlie'],\n",
        "    'Age': [25, 30, 35],\n",
        "    'City': ['New York', 'Los Angeles', 'Chicago']\n",
        "}\n",
        "df = pd.DataFrame(data)\n",
        "\n",
        "print(df)"
      ],
      "metadata": {
        "colab": {
          "base_uri": "https://localhost:8080/"
        },
        "id": "ODRQjFIKkkit",
        "outputId": "30f3f132-19d0-4ecf-b6b4-4a2c1c29f5e2"
      },
      "execution_count": null,
      "outputs": [
        {
          "output_type": "stream",
          "name": "stdout",
          "text": [
            "      Name  Age         City\n",
            "0     rose   25     New York\n",
            "1      Bob   30  Los Angeles\n",
            "2  Charlie   35      Chicago\n"
          ]
        }
      ]
    },
    {
      "cell_type": "code",
      "source": [
        "# Create an empty DataFrame with specified column names.\n",
        "import pandas as pd\n",
        "column_names = ['Name', 'Age', 'City']\n",
        "empty_df = pd.DataFrame(columns=column_names)\n",
        "print(empty_df)"
      ],
      "metadata": {
        "colab": {
          "base_uri": "https://localhost:8080/"
        },
        "id": "XJvsciHjksXe",
        "outputId": "b64e6d9b-4093-4302-dcb4-62bd3fe4df80"
      },
      "execution_count": null,
      "outputs": [
        {
          "output_type": "stream",
          "name": "stdout",
          "text": [
            "Empty DataFrame\n",
            "Columns: [Name, Age, City]\n",
            "Index: []\n"
          ]
        }
      ]
    },
    {
      "cell_type": "code",
      "source": [
        "# Extract the first three rows of a DataFrame.\n",
        "import pandas as pd\n",
        "data = {\n",
        "    'Name': ['rose', 'Bob', 'Charlie', 'David', 'Emma'],\n",
        "    'Age': [25, 30, 35, 40, 45],\n",
        "    'City': ['New York', 'Los Angeles', 'Chicago', 'Houston', 'Miami']\n",
        "}\n",
        "df = pd.DataFrame(data)\n",
        "first_three_rows = df.iloc[:3]\n",
        "\n",
        "print(first_three_rows)"
      ],
      "metadata": {
        "colab": {
          "base_uri": "https://localhost:8080/"
        },
        "id": "77PIscYXkz93",
        "outputId": "7bad5cd8-1fd6-4b82-e22c-56db0a21d959"
      },
      "execution_count": null,
      "outputs": [
        {
          "output_type": "stream",
          "name": "stdout",
          "text": [
            "      Name  Age         City\n",
            "0     rose   25     New York\n",
            "1      Bob   30  Los Angeles\n",
            "2  Charlie   35      Chicago\n"
          ]
        }
      ]
    },
    {
      "cell_type": "code",
      "source": [
        "# Select a specific column from a DataFrame.\n",
        "import pandas as pd\n",
        "data = {\n",
        "    'Name': ['rose', 'Bob', 'Charlie'],\n",
        "    'Age': [25, 30, 35],\n",
        "    'City': ['New York', 'Los Angeles', 'Chicago']\n",
        "}\n",
        "df = pd.DataFrame(data)\n",
        "\n",
        "# Select the 'Name' column using square brackets\n",
        "name_column = df['Name']\n",
        "\n",
        "print(name_column)"
      ],
      "metadata": {
        "colab": {
          "base_uri": "https://localhost:8080/"
        },
        "id": "8VR2Rvzak7mm",
        "outputId": "6b0f62b6-5369-4096-cd85-9e1acadff1b6"
      },
      "execution_count": null,
      "outputs": [
        {
          "output_type": "stream",
          "name": "stdout",
          "text": [
            "0       rose\n",
            "1        Bob\n",
            "2    Charlie\n",
            "Name: Name, dtype: object\n"
          ]
        }
      ]
    },
    {
      "cell_type": "code",
      "source": [
        "# Add a new column to an existing DataFrame.\n",
        "import pandas as pd\n",
        "data = {\n",
        "    'Name': ['rose', 'Bob', 'Charlie'],\n",
        "    'Age': [25, 30, 35],\n",
        "    'City': ['New York', 'Los Angeles', 'Chicago']\n",
        "}\n",
        "df = pd.DataFrame(data)\n",
        "df['Gender'] = ['Female', 'Male', 'Male']\n",
        "\n",
        "print(df)"
      ],
      "metadata": {
        "colab": {
          "base_uri": "https://localhost:8080/"
        },
        "id": "MJ90iU74lEG_",
        "outputId": "e56cf969-2f4e-4bd8-f69d-b19125c292ce"
      },
      "execution_count": null,
      "outputs": [
        {
          "output_type": "stream",
          "name": "stdout",
          "text": [
            "      Name  Age         City  Gender\n",
            "0     rose   25     New York  Female\n",
            "1      Bob   30  Los Angeles    Male\n",
            "2  Charlie   35      Chicago    Male\n"
          ]
        }
      ]
    },
    {
      "cell_type": "code",
      "source": [
        "#Rename a column in a DataFrame\n",
        "import pandas as pd\n",
        "data = {\n",
        "    'Name': ['rose', 'Bob', 'Charlie'],\n",
        "    'Age': [25, 30, 35],\n",
        "    'City': ['New York', 'Los Angeles', 'Chicago']\n",
        "}\n",
        "df = pd.DataFrame(data)\n",
        "df.rename(columns={'Age': 'AgeGroup'}, inplace=True)\n",
        "print(df)"
      ],
      "metadata": {
        "colab": {
          "base_uri": "https://localhost:8080/"
        },
        "id": "KYfGkoWflOv4",
        "outputId": "0f75f31a-8e8c-413d-e602-26b65c8b04fd"
      },
      "execution_count": null,
      "outputs": [
        {
          "output_type": "stream",
          "name": "stdout",
          "text": [
            "      Name  AgeGroup         City\n",
            "0     rose        25     New York\n",
            "1      Bob        30  Los Angeles\n",
            "2  Charlie        35      Chicago\n"
          ]
        }
      ]
    },
    {
      "cell_type": "code",
      "source": [
        "#Indexing and Slicing:\n",
        "#Set a column as the index of a DataFrame\n",
        "import pandas as pd\n",
        "data = {\n",
        "    'Name': ['rose', 'Bob', 'Charlie'],\n",
        "    'Age': [25, 30, 35],\n",
        "    'City': ['New York', 'Los Angeles', 'Chicago']\n",
        "}\n",
        "df = pd.DataFrame(data)\n",
        "df.set_index('Name', inplace=True)\n",
        "print(df)"
      ],
      "metadata": {
        "colab": {
          "base_uri": "https://localhost:8080/"
        },
        "id": "tiZBWl70lkzy",
        "outputId": "553d5589-db81-4cf2-9140-65fb6a0c7e6e"
      },
      "execution_count": null,
      "outputs": [
        {
          "output_type": "stream",
          "name": "stdout",
          "text": [
            "         Age         City\n",
            "Name                     \n",
            "rose      25     New York\n",
            "Bob       30  Los Angeles\n",
            "Charlie   35      Chicago\n"
          ]
        }
      ]
    },
    {
      "cell_type": "code",
      "source": [
        "#Select rows based on a condition in a DataFrame.\n",
        "import pandas as pd\n",
        "data = {\n",
        "    'Name': ['rose', 'Bob', 'Charlie', 'David', 'Emma'],\n",
        "    'Age': [25, 30, 35, 40, 45],\n",
        "    'City': ['New York', 'Los Angeles', 'Chicago', 'Houston', 'Miami']\n",
        "}\n",
        "df = pd.DataFrame(data)\n",
        "selected_rows = df[df['Age'] > 30]\n",
        "print(selected_rows)"
      ],
      "metadata": {
        "colab": {
          "base_uri": "https://localhost:8080/"
        },
        "id": "dobHTgOFlvyF",
        "outputId": "f3a64cde-ec44-492c-c27e-d21ff05ea55c"
      },
      "execution_count": null,
      "outputs": [
        {
          "output_type": "stream",
          "name": "stdout",
          "text": [
            "      Name  Age     City\n",
            "2  Charlie   35  Chicago\n",
            "3    David   40  Houston\n",
            "4     Emma   45    Miami\n"
          ]
        }
      ]
    },
    {
      "cell_type": "code",
      "source": [
        "# Extract data using both row and column indices.\n",
        "import pandas as pd\n",
        "data = {\n",
        "    'Name': ['rose', 'Bob', 'Charlie', 'David', 'Emma'],\n",
        "    'Age': [25, 30, 35, 40, 45],\n",
        "    'City': ['New York', 'Los Angeles', 'Chicago', 'Houston', 'Miami']\n",
        "}\n",
        "df = pd.DataFrame(data)\n",
        "value = df.iloc[2, 1]\n",
        "print(value)"
      ],
      "metadata": {
        "colab": {
          "base_uri": "https://localhost:8080/"
        },
        "id": "LvUoDVAll-JI",
        "outputId": "2d1fab1c-58af-4ae0-f345-48460906c68c"
      },
      "execution_count": null,
      "outputs": [
        {
          "output_type": "stream",
          "name": "stdout",
          "text": [
            "35\n"
          ]
        }
      ]
    },
    {
      "cell_type": "code",
      "source": [
        "#Use the loc and iloc methods for indexing in Pandas\n",
        "import pandas as pd\n",
        "data = {\n",
        "    'Name': ['rose', 'Bob', 'Charlie', 'David', 'Emma'],\n",
        "    'Age': [25, 30, 35, 40, 45],\n",
        "    'City': ['New York', 'Los Angeles', 'Chicago', 'Houston', 'Miami']\n",
        "}\n",
        "df = pd.DataFrame(data)\n",
        "value = df.loc[2, 'Age']\n",
        "print(\"Value at row index 2 and column 'Age':\", value)\n",
        "subset = df.loc[1:3, ['Name', 'City']]\n",
        "print(\"\\nSubset of DataFrame:\")\n",
        "print(subset)"
      ],
      "metadata": {
        "colab": {
          "base_uri": "https://localhost:8080/"
        },
        "id": "AJ5RmrgAmFGX",
        "outputId": "8506cb3f-1d66-454a-d72d-2edadf9bdbd5"
      },
      "execution_count": null,
      "outputs": [
        {
          "output_type": "stream",
          "name": "stdout",
          "text": [
            "Value at row index 2 and column 'Age': 35\n",
            "\n",
            "Subset of DataFrame:\n",
            "      Name         City\n",
            "1      Bob  Los Angeles\n",
            "2  Charlie      Chicago\n",
            "3    David      Houston\n"
          ]
        }
      ]
    },
    {
      "cell_type": "code",
      "source": [
        "#Data cleaning\n",
        "#Check for missing values in a DataFrame.\n",
        "import pandas as pd\n",
        "import numpy as np\n",
        "data = {\n",
        "    'A': [1, 2, np.nan, 4],\n",
        "    'B': [5, np.nan, 7, 8],\n",
        "    'C': [np.nan, 10, 11, 12]\n",
        "}\n",
        "df = pd.DataFrame(data)\n",
        "missing_values = df.isna()\n",
        "print(\"DataFrame with missing values:\")\n",
        "print(df)\n",
        "print(\"\\nMissing values:\")\n",
        "print(missing_values)"
      ],
      "metadata": {
        "colab": {
          "base_uri": "https://localhost:8080/"
        },
        "id": "Ei4WMu_OmPXY",
        "outputId": "b6392214-cd8e-4a79-eb72-8a4be1f851c1"
      },
      "execution_count": null,
      "outputs": [
        {
          "output_type": "stream",
          "name": "stdout",
          "text": [
            "DataFrame with missing values:\n",
            "     A    B     C\n",
            "0  1.0  5.0   NaN\n",
            "1  2.0  NaN  10.0\n",
            "2  NaN  7.0  11.0\n",
            "3  4.0  8.0  12.0\n",
            "\n",
            "Missing values:\n",
            "       A      B      C\n",
            "0  False  False   True\n",
            "1  False   True  False\n",
            "2   True  False  False\n",
            "3  False  False  False\n"
          ]
        }
      ]
    },
    {
      "cell_type": "code",
      "source": [
        "# Remove duplicates from a DataFrame.\n",
        "import pandas as pd\n",
        "data = {\n",
        "    'Name': ['rose', 'Bob', 'Charlie', 'Alice', 'David', 'Bob'],\n",
        "    'Age': [25, 30, 35, 25, 40, 30],\n",
        "    'City': ['New York', 'Los Angeles', 'Chicago', 'New York', 'Houston', 'Los Angeles']\n",
        "}\n",
        "df = pd.DataFrame(data)\n",
        "\n",
        "# Remove duplicates based on all columns\n",
        "df_no_duplicates = df.drop_duplicates()\n",
        "\n",
        "print(\"DataFrame with duplicates:\")\n",
        "print(df)\n",
        "\n",
        "print(\"\\nDataFrame without duplicates:\")\n",
        "print(df_no_duplicates)"
      ],
      "metadata": {
        "colab": {
          "base_uri": "https://localhost:8080/"
        },
        "id": "sGsNMvWGmhJg",
        "outputId": "74c9f010-13e5-45dc-efc6-c653618a8f42"
      },
      "execution_count": null,
      "outputs": [
        {
          "output_type": "stream",
          "name": "stdout",
          "text": [
            "DataFrame with duplicates:\n",
            "      Name  Age         City\n",
            "0     rose   25     New York\n",
            "1      Bob   30  Los Angeles\n",
            "2  Charlie   35      Chicago\n",
            "3    Alice   25     New York\n",
            "4    David   40      Houston\n",
            "5      Bob   30  Los Angeles\n",
            "\n",
            "DataFrame without duplicates:\n",
            "      Name  Age         City\n",
            "0     rose   25     New York\n",
            "1      Bob   30  Los Angeles\n",
            "2  Charlie   35      Chicago\n",
            "3    Alice   25     New York\n",
            "4    David   40      Houston\n"
          ]
        }
      ]
    },
    {
      "cell_type": "code",
      "source": [
        "#Fill missing values in a DataFrame with a specified value.\n",
        "import pandas as pd\n",
        "import numpy as np\n",
        "data = {\n",
        "    'A': [1, 2, np.nan, 4],\n",
        "    'B': [5, np.nan, 7, 8],\n",
        "    'C': [np.nan, 10, 11, 12]\n",
        "}\n",
        "df = pd.DataFrame(data)\n",
        "filled_df = df.fillna(0)\n",
        "\n",
        "print(\"DataFrame with missing values:\")\n",
        "print(df)\n",
        "\n",
        "print(\"\\nDataFrame after filling missing values:\")\n",
        "print(filled_df)"
      ],
      "metadata": {
        "colab": {
          "base_uri": "https://localhost:8080/"
        },
        "id": "JCO1d9TJms5W",
        "outputId": "d59c097d-9d94-4694-c636-fec9bf9c0fe2"
      },
      "execution_count": null,
      "outputs": [
        {
          "output_type": "stream",
          "name": "stdout",
          "text": [
            "DataFrame with missing values:\n",
            "     A    B     C\n",
            "0  1.0  5.0   NaN\n",
            "1  2.0  NaN  10.0\n",
            "2  NaN  7.0  11.0\n",
            "3  4.0  8.0  12.0\n",
            "\n",
            "DataFrame after filling missing values:\n",
            "     A    B     C\n",
            "0  1.0  5.0   0.0\n",
            "1  2.0  0.0  10.0\n",
            "2  0.0  7.0  11.0\n",
            "3  4.0  8.0  12.0\n"
          ]
        }
      ]
    },
    {
      "cell_type": "code",
      "source": [
        "# Drop columns with missing values in a DataFrame\n",
        "import pandas as pd\n",
        "import numpy as np\n",
        "data = {\n",
        "    'A': [1, 2, np.nan, 4],\n",
        "    'B': [5, np.nan, 7, 8],\n",
        "    'C': [np.nan, 10, 11, 12]\n",
        "}\n",
        "df = pd.DataFrame(data)\n",
        "df_dropped = df.dropna(axis=1)\n",
        "\n",
        "print(\"Original DataFrame:\")\n",
        "print(df)\n",
        "\n",
        "print(\"\\nDataFrame after dropping columns with missing values:\")\n",
        "print(df_dropped)"
      ],
      "metadata": {
        "colab": {
          "base_uri": "https://localhost:8080/"
        },
        "id": "l_sxbewkmz_u",
        "outputId": "cdcba048-0861-4588-d146-1f0a83932db2"
      },
      "execution_count": null,
      "outputs": [
        {
          "output_type": "stream",
          "name": "stdout",
          "text": [
            "Original DataFrame:\n",
            "     A    B     C\n",
            "0  1.0  5.0   NaN\n",
            "1  2.0  NaN  10.0\n",
            "2  NaN  7.0  11.0\n",
            "3  4.0  8.0  12.0\n",
            "\n",
            "DataFrame after dropping columns with missing values:\n",
            "Empty DataFrame\n",
            "Columns: []\n",
            "Index: [0, 1, 2, 3]\n"
          ]
        }
      ]
    },
    {
      "cell_type": "code",
      "source": [
        "#Data Aggregation:\n",
        "# Group a DataFrame by a specific column.\n",
        "import pandas as pd\n",
        "technologies = ({\n",
        "     'Courses':[\"Spark\",\"PySpark\",\"Hadoop\",\"Python\",\"pandas\",\"PySpark\",\"Python\",\"pandas\"],\n",
        "     'Fee' :[24000,25000,25000,24000,24000,25000,25000,24000],\n",
        "     'Duration':['30day','40days','35days', '40days','60days','50days','55days','35days'],\n",
        "     'Discount':[1000,2300,1500,1200,2500,2100,2000,2500]\n",
        "              })\n",
        "df = pd.DataFrame(technologies)\n",
        "print(df)"
      ],
      "metadata": {
        "colab": {
          "base_uri": "https://localhost:8080/"
        },
        "id": "VTeIsEhSqRdQ",
        "outputId": "d0342442-ad01-479f-93f8-f25f6f98e17a"
      },
      "execution_count": null,
      "outputs": [
        {
          "output_type": "stream",
          "name": "stdout",
          "text": [
            "   Courses    Fee Duration  Discount\n",
            "0    Spark  24000    30day      1000\n",
            "1  PySpark  25000   40days      2300\n",
            "2   Hadoop  25000   35days      1500\n",
            "3   Python  24000   40days      1200\n",
            "4   pandas  24000   60days      2500\n",
            "5  PySpark  25000   50days      2100\n",
            "6   Python  25000   55days      2000\n",
            "7   pandas  24000   35days      2500\n"
          ]
        }
      ]
    },
    {
      "cell_type": "code",
      "source": [
        "#Calculate the mean and sum for each group in a grouped DataFrame.\n",
        "import pandas as pd\n",
        "df = pd.DataFrame({'team': ['A', 'A', 'A', 'A', 'B', 'B', 'B', 'B'],\n",
        "                   'position': ['G', 'F', 'F', 'G', 'F', 'F', 'G', 'G'],\n",
        "                   'points': [30, 22, 19, 14, 14, 11, 20, 28],\n",
        "                   'assists': [4, 3, 7, 7, 12, 15, 8, 4]})\n",
        "print(df)"
      ],
      "metadata": {
        "colab": {
          "base_uri": "https://localhost:8080/"
        },
        "id": "6kBdfMyrqldu",
        "outputId": "d5ae36d4-f5dd-431a-e155-d2bc2d52a8c6"
      },
      "execution_count": null,
      "outputs": [
        {
          "output_type": "stream",
          "name": "stdout",
          "text": [
            "  team position  points  assists\n",
            "0    A        G      30        4\n",
            "1    A        F      22        3\n",
            "2    A        F      19        7\n",
            "3    A        G      14        7\n",
            "4    B        F      14       12\n",
            "5    B        F      11       15\n",
            "6    B        G      20        8\n",
            "7    B        G      28        4\n"
          ]
        }
      ]
    },
    {
      "cell_type": "code",
      "source": [
        "#Count the number of occurrences of each unique value in a column.\n",
        "import pandas as pd\n",
        "df = pd.DataFrame({\n",
        "    'A': ['foo', 'bar', 'foo', 'bar', 'foo', 'foo'],\n",
        "    'B': ['one', 'one', 'two', 'two', 'one', 'two'],\n",
        "    'C': [1, 2, 3, 4, 5, 6]\n",
        "})\n",
        "counts = df['A'].value_counts()\n",
        "\n",
        "print(counts)"
      ],
      "metadata": {
        "colab": {
          "base_uri": "https://localhost:8080/"
        },
        "id": "viAimFD2q9md",
        "outputId": "e6e09b38-d280-4970-ed6f-0582ea16c03f"
      },
      "execution_count": null,
      "outputs": [
        {
          "output_type": "stream",
          "name": "stdout",
          "text": [
            "foo    4\n",
            "bar    2\n",
            "Name: A, dtype: int64\n"
          ]
        }
      ]
    },
    {
      "cell_type": "code",
      "source": [
        "#Find the maximum and minimum values in a DataFrame.\n",
        "import pandas as pd\n",
        "#Creates a DataFrame of \"movie\", \"release date\", \"domestic gross\", \"worldwide gross\", \"personal rating\", and \"international box office\" columns\n",
        "\n",
        "df1 = pd.DataFrame([\n",
        "\n",
        "{\"movie\": \"The Truman Show\", \"release date\": \"1996-06-05\", \"domestic box office\": 125618201, \"worldwide box office\": 264118201, \"personal rating\": 10, \"international box office\": 138500000},\n",
        "\n",
        "{\"movie\": \"Rogue One: A Star Wars Story\", \"release date\": \"2016-12-16\", \"domestic box office\": 532177324, \"worldwide box office\": 1055135598, \"personal rating\": 9, \"international box office\": 522958274},\n",
        "\n",
        "{\"movie\": \"Iron Man\", \"release date\": \"2008-05-02\", \"domestic box office\": 318604126, \"worldwide box office\": 585171547, \"personal rating\": 7, \"international box office\": 266567421},\n",
        "\n",
        "{\"movie\": \"Blade Runner\", \"release date\": \"1982-06-25\", \"domestic box office\": 32656328, \"worldwide box office\": 39535837, \"personal rating\": 8, \"international box office\": 6879509},\n",
        "\n",
        "{\"movie\": \"Breakfast at Tiffany's\", \"release date\": \"1961-10-05\", \"domestic box office\": 9551904, \"worldwide box office\": 9794721, \"personal rating\": 7, \"international box office\": 242817}\n",
        "\n",
        "])\n",
        "\n",
        "df1[\"worldwide box office\"].min()\n",
        "\n",
        "df1[\"worldwide box office\"].max()"
      ],
      "metadata": {
        "colab": {
          "base_uri": "https://localhost:8080/"
        },
        "id": "rmt60OjQrMsx",
        "outputId": "494d6087-621d-4cb7-c9a8-96e9cc783900"
      },
      "execution_count": null,
      "outputs": [
        {
          "output_type": "execute_result",
          "data": {
            "text/plain": [
              "1055135598"
            ]
          },
          "metadata": {},
          "execution_count": 37
        }
      ]
    },
    {
      "cell_type": "code",
      "source": [
        "#Data merging and joining:\n",
        "#. Merge two DataFrames based on a common column.\n",
        "import pandas as pd\n",
        "\n",
        "# Create DataFrame1\n",
        "dataFrame1 = pd.DataFrame(\n",
        "   {\n",
        "      \"Car\": ['BMW', 'Lexus', 'Audi', 'Mustang', 'Bentley', 'Jaguar'],\"Units\": [100, 150, 110, 80, 110, 90]\n",
        "   }\n",
        ")\n",
        "\n",
        "print(\"DataFrame1...\\n\"),dataFrame1\n",
        "\n",
        "# Create DataFrame2\n",
        "dataFrame2 = pd.DataFrame(\n",
        "   {\n",
        "      \"Car\": ['BMW', 'Lexus', 'Audi', 'Mustang', 'Mercedes', 'Jaguar'],\"Reg_Price\": [7000, 1500, 5000, 8000, 9000, 6000]\n",
        "\n",
        "   }\n",
        ")\n",
        "\n",
        "print(\"\\nDataFrame2 ...\\n\"),dataFrame2\n",
        "\n",
        "# merge DataFrames with common column Car\n",
        "mergedRes = pd.merge(dataFrame1, dataFrame2, on ='Car')\n",
        "print(\"\\nMerged data frame with common column...\\n\"), mergedRes\n"
      ],
      "metadata": {
        "colab": {
          "base_uri": "https://localhost:8080/"
        },
        "id": "nRd_4rNBrki_",
        "outputId": "8e81d867-64ea-49ae-de3a-ab75224fb3b3"
      },
      "execution_count": null,
      "outputs": [
        {
          "output_type": "stream",
          "name": "stdout",
          "text": [
            "DataFrame1...\n",
            "\n",
            "\n",
            "DataFrame2 ...\n",
            "\n",
            "\n",
            "Merged data frame with common column...\n",
            "\n"
          ]
        },
        {
          "output_type": "execute_result",
          "data": {
            "text/plain": [
              "(None,\n",
              "        Car  Units  Reg_Price\n",
              " 0      BMW    100       7000\n",
              " 1    Lexus    150       1500\n",
              " 2     Audi    110       5000\n",
              " 3  Mustang     80       8000\n",
              " 4   Jaguar     90       6000)"
            ]
          },
          "metadata": {},
          "execution_count": 39
        }
      ]
    },
    {
      "cell_type": "code",
      "source": [
        "#Data Transformation\n",
        "#. Apply a function to each column in a DataFrame.\n",
        "\n",
        "import pandas as pd\n",
        "\n",
        "# create a sample DataFrame\n",
        "df = pd.DataFrame({\n",
        "    'name': ['Alice', 'Bob', 'Charlie'],\n",
        "    'age': [25, 30, 35],\n",
        "    'salary': [50000, 60000, 70000]\n",
        "})\n",
        "\n",
        "# define a function to apply to the salary column\n",
        "def salary_increase(salary):\n",
        "    return salary * 1.1\n",
        "\n",
        "# apply the function to the salary column using apply()\n",
        "df['salary'] = df['salary'].apply(salary_increase)\n",
        "\n",
        "# print the updated DataFrame\n",
        "print(df)\n"
      ],
      "metadata": {
        "colab": {
          "base_uri": "https://localhost:8080/"
        },
        "id": "0B_bNWejtMUW",
        "outputId": "bda7b460-c5b2-4b43-fa88-fb13d4a4ee81"
      },
      "execution_count": null,
      "outputs": [
        {
          "output_type": "stream",
          "name": "stdout",
          "text": [
            "      name  age   salary\n",
            "0    Alice   25  55000.0\n",
            "1      Bob   30  66000.0\n",
            "2  Charlie   35  77000.0\n"
          ]
        }
      ]
    },
    {
      "cell_type": "code",
      "source": [
        "# Apply a function to each row in a DataFrame.\n",
        "import pandas as pd\n",
        "def add_values(row):\n",
        "    return row['A'] + row['B'] + row['C']\n",
        "\n",
        "def main():\n",
        "    # Create a dictionary with three fields each\n",
        "    data = {\n",
        "        'A': [1, 2, 3],\n",
        "        'B': [4, 5, 6],\n",
        "        'C': [7, 8, 9]}\n",
        "\n",
        "    # Convert the dictionary into DataFrame\n",
        "    df = pd.DataFrame(data)\n",
        "    print(\"Original DataFrame:\\n\", df)\n",
        "\n",
        "    # Apply the user-defined function to every row\n",
        "    df['add'] = df.apply(add_values, axis=1)\n",
        "\n",
        "    print('\\nAfter Applying Function: ')\n",
        "    # Print the new DataFrame\n",
        "    print(df)\n",
        "\n",
        "if __name__ == '__main__':\n",
        "    main()"
      ],
      "metadata": {
        "colab": {
          "base_uri": "https://localhost:8080/"
        },
        "id": "T22s7i-KvN9S",
        "outputId": "1b678b04-085c-495c-9186-fb2ab812a11e"
      },
      "execution_count": null,
      "outputs": [
        {
          "output_type": "stream",
          "name": "stdout",
          "text": [
            "Original DataFrame:\n",
            "    A  B  C\n",
            "0  1  4  7\n",
            "1  2  5  8\n",
            "2  3  6  9\n",
            "\n",
            "After Applying Function: \n",
            "   A  B  C  add\n",
            "0  1  4  7   12\n",
            "1  2  5  8   15\n",
            "2  3  6  9   18\n"
          ]
        }
      ]
    },
    {
      "cell_type": "code",
      "source": [
        "#Time Series Data\n",
        "#Convert a column to datetime format in a DataFrame.\n",
        "import pandas as pd\n",
        "\n",
        "df = pd.DataFrame({'date': ['2022-05-01', '2022-05-02', '2022-05-03']})\n",
        "# convert to datetime using pd.to_datetime\n",
        "df['date'] = pd.to_datetime(df['date'])\n",
        "print(df)"
      ],
      "metadata": {
        "colab": {
          "base_uri": "https://localhost:8080/"
        },
        "id": "LMad6qTfvigr",
        "outputId": "d907e5c8-529e-4625-dac9-2d0a3982319c"
      },
      "execution_count": null,
      "outputs": [
        {
          "output_type": "stream",
          "name": "stdout",
          "text": [
            "        date\n",
            "0 2022-05-01\n",
            "1 2022-05-02\n",
            "2 2022-05-03\n"
          ]
        }
      ]
    },
    {
      "cell_type": "code",
      "source": [
        "#Visualization with pandas\n",
        "import pandas as pd\n",
        "import matplotlib.pyplot as plot\n",
        "earningsData = {\"Quarterly Profit\": [9.3, 9.7, 8.9, 10.2],\n",
        "\n",
        "                \"Quarterly Revenue\": [12.7, 14.0, 12.5, 14.7]\n",
        "\n",
        "               };\n",
        "df = pd.DataFrame(data=earningsData);\n",
        "df.plot.line(title=\"Quarterly earnings and profit of an organization\");\n",
        "plot.show(block=True);"
      ],
      "metadata": {
        "colab": {
          "base_uri": "https://localhost:8080/",
          "height": 452
        },
        "id": "Y5xkQ_cTwudp",
        "outputId": "77d36ccb-552c-42d4-ca44-a52b79effef6"
      },
      "execution_count": null,
      "outputs": [
        {
          "output_type": "display_data",
          "data": {
            "text/plain": [
              "<Figure size 640x480 with 1 Axes>"
            ],
            "image/png": "[encoded data removed]"
          },
          "metadata": {}
        }
      ]
    },
    {
      "cell_type": "code",
      "source": [
        "# Create a bar plot from a DataFrame\n",
        "df = pd.DataFrame([('Foreign Cinema', 50, 289.0),\n",
        "                   ('Liho Liho', 45, 224.0),\n",
        "                   ('500 Club', 102, 80.5),\n",
        "                   ('The Square', 65, 25.30)],\n",
        "           columns=('name', 'num_customers', 'AvgBill')\n",
        "                 )\n",
        "df\n",
        "df.plot.bar(x='name', y='AvgBill', rot=0);"
      ],
      "metadata": {
        "colab": {
          "base_uri": "https://localhost:8080/",
          "height": 451
        },
        "id": "OroTd1Piw_Zt",
        "outputId": "e08f09c2-6873-4d05-e428-ec651189c96a"
      },
      "execution_count": null,
      "outputs": [
        {
          "output_type": "display_data",
          "data": {
            "text/plain": [
              "<Figure size 640x480 with 1 Axes>"
            ],
            "image/png": "[encoded data removed]"
          },
          "metadata": {}
        }
      ]
    },
    {
      "cell_type": "code",
      "source": [
        "#Generate a scatter plot using Pandas.\n",
        "import pandas as pd\n",
        "import matplotlib.pyplot as plt\n",
        "import numpy as np\n",
        "\n",
        "data = pd.DataFrame({\n",
        "    'x': np.random.rand(100),\n",
        "    'y': np.random.rand(100),\n",
        "    'z': np.random.rand(100),\n",
        "    'a': np.random.rand(100),\n",
        "    'b': np.random.rand(100),\n",
        "    'c': np.random.rand(100),\n",
        "    'd': np.random.rand(100),\n",
        "    'e': np.random.rand(100),\n",
        "    'f': np.random.rand(100),\n",
        "    'g': np.random.rand(100),\n",
        "})\n",
        "data.plot.scatter(x='x', y='y')"
      ],
      "metadata": {
        "colab": {
          "base_uri": "https://localhost:8080/",
          "height": 467
        },
        "id": "AZKSeFFOxPcZ",
        "outputId": "8d0f2619-fd8e-419d-e939-a71391e953ca"
      },
      "execution_count": null,
      "outputs": [
        {
          "output_type": "execute_result",
          "data": {
            "text/plain": [
              "<Axes: xlabel='x', ylabel='y'>"
            ]
          },
          "metadata": {},
          "execution_count": 47
        },
        {
          "output_type": "display_data",
          "data": {
            "text/plain": [
              "<Figure size 640x480 with 1 Axes>"
            ],
            "image/png": "[encoded data removed]"
          },
          "metadata": {}
        }
      ]
    },
    {
      "cell_type": "code",
      "source": [
        "#Statistical Analysis\n",
        "#Calculate descriptive statistics for a DataFrame.\n",
        "from pandas import DataFrame\n",
        "cart = {'Product': ['Mobile', 'AC', 'Mobile', 'Sofa', 'Laptop'],\n",
        "        'Price': [20000, 28000, 22000, 19000, 45000],\n",
        "        'Year': [2014, 2015, 2016, 2017, 2018]\n",
        "        }\n",
        "df = DataFrame(cart, columns = ['Product', 'Price', 'Year'])\n",
        "print(\"Original DataFrame:\\n\", df)\n",
        "print(\"\\nDescriptive statistics of Price:\\n\")\n",
        "stats = df['Price'].describe()\n",
        "print(stats)"
      ],
      "metadata": {
        "colab": {
          "base_uri": "https://localhost:8080/"
        },
        "id": "kawt9lTPxb6F",
        "outputId": "6724e8ed-471c-4ec3-84d6-898b9a5c37a0"
      },
      "execution_count": null,
      "outputs": [
        {
          "output_type": "stream",
          "name": "stdout",
          "text": [
            "Original DataFrame:\n",
            "   Product  Price  Year\n",
            "0  Mobile  20000  2014\n",
            "1      AC  28000  2015\n",
            "2  Mobile  22000  2016\n",
            "3    Sofa  19000  2017\n",
            "4  Laptop  45000  2018\n",
            "\n",
            "Descriptive statistics of Price:\n",
            "\n",
            "count        5.000000\n",
            "mean     26800.000000\n",
            "std      10756.393448\n",
            "min      19000.000000\n",
            "25%      20000.000000\n",
            "50%      22000.000000\n",
            "75%      28000.000000\n",
            "max      45000.000000\n",
            "Name: Price, dtype: float64\n"
          ]
        }
      ]
    },
    {
      "cell_type": "code",
      "source": [
        "# Compute the correlation matrix for a set of columns in a DataFrame.\n",
        "import pandas as pd\n",
        "\n",
        "# obtaining the data\n",
        "data = {'A': [45, 37, 42],\n",
        "        'B': [38, 31, 26],\n",
        "        'C': [10, 15, 17]\n",
        "        }\n",
        "# creation of DataFrame\n",
        "df = pd.DataFrame(data)\n",
        "\n",
        "# creation of correlation matrix\n",
        "corrM = df.corr()\n",
        "\n",
        "corrM"
      ],
      "metadata": {
        "colab": {
          "base_uri": "https://localhost:8080/",
          "height": 143
        },
        "id": "8inHInZExtMC",
        "outputId": "91bea4f1-7bfd-46e4-96d9-235affe5902b"
      },
      "execution_count": null,
      "outputs": [
        {
          "output_type": "execute_result",
          "data": {
            "text/plain": [
              "          A         B         C\n",
              "A  1.000000  0.458388 -0.583324\n",
              "B  0.458388  1.000000 -0.989268\n",
              "C -0.583324 -0.989268  1.000000"
            ],
            "text/html": [
              "\n",
              "  <div id=\"df-93c878e2-4409-4d61-95e9-ac577035840c\" class=\"colab-df-container\">\n",
              "    <div>\n",
              "<style scoped>\n",
              "    .dataframe tbody tr th:only-of-type {\n",
              "        vertical-align: middle;\n",
              "    }\n",
              "\n",
              "    .dataframe tbody tr th {\n",
              "        vertical-align: top;\n",
              "    }\n",
              "\n",
              "    .dataframe thead th {\n",
              "        text-align: right;\n",
              "    }\n",
              "</style>\n",
              "<table border=\"1\" class=\"dataframe\">\n",
              "  <thead>\n",
              "    <tr style=\"text-align: right;\">\n",
              "      <th></th>\n",
              "      <th>A</th>\n",
              "      <th>B</th>\n",
              "      <th>C</th>\n",
              "    </tr>\n",
              "  </thead>\n",
              "  <tbody>\n",
              "    <tr>\n",
              "      <th>A</th>\n",
              "      <td>1.000000</td>\n",
              "      <td>0.458388</td>\n",
              "      <td>-0.583324</td>\n",
              "    </tr>\n",
              "    <tr>\n",
              "      <th>B</th>\n",
              "      <td>0.458388</td>\n",
              "      <td>1.000000</td>\n",
              "      <td>-0.989268</td>\n",
              "    </tr>\n",
              "    <tr>\n",
              "      <th>C</th>\n",
              "      <td>-0.583324</td>\n",
              "      <td>-0.989268</td>\n",
              "      <td>1.000000</td>\n",
              "    </tr>\n",
              "  </tbody>\n",
              "</table>\n",
              "</div>\n",
              "    <div class=\"colab-df-buttons\">\n",
              "\n",
              "  <div class=\"colab-df-container\">\n",
              "    <button class=\"colab-df-convert\" onclick=\"convertToInteractive('df-93c878e2-4409-4d61-95e9-ac577035840c')\"\n",
              "            title=\"Convert this dataframe to an interactive table.\"\n",
              "            style=\"display:none;\">\n",
              "\n",
              "  <svg xmlns=\"http://www.w3.org/2000/svg\" height=\"24px\" viewBox=\"0 -960 960 960\">\n",
              "    <path d=\"M120-120v-720h720v720H120Zm60-500h600v-160H180v160Zm220 220h160v-160H400v160Zm0 220h160v-160H400v160ZM180-400h160v-160H180v160Zm440 0h160v-160H620v160ZM180-180h160v-160H180v160Zm440 0h160v-160H620v160Z\"/>\n",
              "  </svg>\n",
              "    </button>\n",
              "\n",
              "  <style>\n",
              "    .colab-df-container {\n",
              "      display:flex;\n",
              "      gap: 12px;\n",
              "    }\n",
              "\n",
              "    .colab-df-convert {\n",
              "      background-color: #E8F0FE;\n",
              "      border: none;\n",
              "      border-radius: 50%;\n",
              "      cursor: pointer;\n",
              "      display: none;\n",
              "      fill: #1967D2;\n",
              "      height: 32px;\n",
              "      padding: 0 0 0 0;\n",
              "      width: 32px;\n",
              "    }\n",
              "\n",
              "    .colab-df-convert:hover {\n",
              "      background-color: #E2EBFA;\n",
              "      box-shadow: 0px 1px 2px rgba(60, 64, 67, 0.3), 0px 1px 3px 1px rgba(60, 64, 67, 0.15);\n",
              "      fill: #174EA6;\n",
              "    }\n",
              "\n",
              "    .colab-df-buttons div {\n",
              "      margin-bottom: 4px;\n",
              "    }\n",
              "\n",
              "    [theme=dark] .colab-df-convert {\n",
              "      background-color: #3B4455;\n",
              "      fill: #D2E3FC;\n",
              "    }\n",
              "\n",
              "    [theme=dark] .colab-df-convert:hover {\n",
              "      background-color: #434B5C;\n",
              "      box-shadow: 0px 1px 3px 1px rgba(0, 0, 0, 0.15);\n",
              "      filter: drop-shadow(0px 1px 2px rgba(0, 0, 0, 0.3));\n",
              "      fill: #FFFFFF;\n",
              "    }\n",
              "  </style>\n",
              "\n",
              "    <script>\n",
              "      const buttonEl =\n",
              "        document.querySelector('#df-93c878e2-4409-4d61-95e9-ac577035840c button.colab-df-convert');\n",
              "      buttonEl.style.display =\n",
              "        google.colab.kernel.accessAllowed ? 'block' : 'none';\n",
              "\n",
              "      async function convertToInteractive(key) {\n",
              "        const element = document.querySelector('#df-93c878e2-4409-4d61-95e9-ac577035840c');\n",
              "        const dataTable =\n",
              "          await google.colab.kernel.invokeFunction('convertToInteractive',\n",
              "                                                    [key], {});\n",
              "        if (!dataTable) return;\n",
              "\n",
              "        const docLinkHtml = 'Like what you see? Visit the ' +\n",
              "          '<a target=\"_blank\" href=https://colab.research.google.com/notebooks/data_table.ipynb>data table notebook</a>'\n",
              "          + ' to learn more about interactive tables.';\n",
              "        element.innerHTML = '';\n",
              "        dataTable['output_type'] = 'display_data';\n",
              "        await google.colab.output.renderOutput(dataTable, element);\n",
              "        const docLink = document.createElement('div');\n",
              "        docLink.innerHTML = docLinkHtml;\n",
              "        element.appendChild(docLink);\n",
              "      }\n",
              "    </script>\n",
              "  </div>\n",
              "\n",
              "\n",
              "<div id=\"df-cc9b60e7-88a9-4e45-b895-2d7079b56ce4\">\n",
              "  <button class=\"colab-df-quickchart\" onclick=\"quickchart('df-cc9b60e7-88a9-4e45-b895-2d7079b56ce4')\"\n",
              "            title=\"Suggest charts\"\n",
              "            style=\"display:none;\">\n",
              "\n",
              "<svg xmlns=\"http://www.w3.org/2000/svg\" height=\"24px\"viewBox=\"0 0 24 24\"\n",
              "     width=\"24px\">\n",
              "    <g>\n",
              "        <path d=\"M19 3H5c-1.1 0-2 .9-2 2v14c0 1.1.9 2 2 2h14c1.1 0 2-.9 2-2V5c0-1.1-.9-2-2-2zM9 17H7v-7h2v7zm4 0h-2V7h2v10zm4 0h-2v-4h2v4z\"/>\n",
              "    </g>\n",
              "</svg>\n",
              "  </button>\n",
              "\n",
              "<style>\n",
              "  .colab-df-quickchart {\n",
              "      --bg-color: #E8F0FE;\n",
              "      --fill-color: #1967D2;\n",
              "      --hover-bg-color: #E2EBFA;\n",
              "      --hover-fill-color: #174EA6;\n",
              "      --disabled-fill-color: #AAA;\n",
              "      --disabled-bg-color: #DDD;\n",
              "  }\n",
              "\n",
              "  [theme=dark] .colab-df-quickchart {\n",
              "      --bg-color: #3B4455;\n",
              "      --fill-color: #D2E3FC;\n",
              "      --hover-bg-color: #434B5C;\n",
              "      --hover-fill-color: #FFFFFF;\n",
              "      --disabled-bg-color: #3B4455;\n",
              "      --disabled-fill-color: #666;\n",
              "  }\n",
              "\n",
              "  .colab-df-quickchart {\n",
              "    background-color: var(--bg-color);\n",
              "    border: none;\n",
              "    border-radius: 50%;\n",
              "    cursor: pointer;\n",
              "    display: none;\n",
              "    fill: var(--fill-color);\n",
              "    height: 32px;\n",
              "    padding: 0;\n",
              "    width: 32px;\n",
              "  }\n",
              "\n",
              "  .colab-df-quickchart:hover {\n",
              "    background-color: var(--hover-bg-color);\n",
              "    box-shadow: 0 1px 2px rgba(60, 64, 67, 0.3), 0 1px 3px 1px rgba(60, 64, 67, 0.15);\n",
              "    fill: var(--button-hover-fill-color);\n",
              "  }\n",
              "\n",
              "  .colab-df-quickchart-complete:disabled,\n",
              "  .colab-df-quickchart-complete:disabled:hover {\n",
              "    background-color: var(--disabled-bg-color);\n",
              "    fill: var(--disabled-fill-color);\n",
              "    box-shadow: none;\n",
              "  }\n",
              "\n",
              "  .colab-df-spinner {\n",
              "    border: 2px solid var(--fill-color);\n",
              "    border-color: transparent;\n",
              "    border-bottom-color: var(--fill-color);\n",
              "    animation:\n",
              "      spin 1s steps(1) infinite;\n",
              "  }\n",
              "\n",
              "  @keyframes spin {\n",
              "    0% {\n",
              "      border-color: transparent;\n",
              "      border-bottom-color: var(--fill-color);\n",
              "      border-left-color: var(--fill-color);\n",
              "    }\n",
              "    20% {\n",
              "      border-color: transparent;\n",
              "      border-left-color: var(--fill-color);\n",
              "      border-top-color: var(--fill-color);\n",
              "    }\n",
              "    30% {\n",
              "      border-color: transparent;\n",
              "      border-left-color: var(--fill-color);\n",
              "      border-top-color: var(--fill-color);\n",
              "      border-right-color: var(--fill-color);\n",
              "    }\n",
              "    40% {\n",
              "      border-color: transparent;\n",
              "      border-right-color: var(--fill-color);\n",
              "      border-top-color: var(--fill-color);\n",
              "    }\n",
              "    60% {\n",
              "      border-color: transparent;\n",
              "      border-right-color: var(--fill-color);\n",
              "    }\n",
              "    80% {\n",
              "      border-color: transparent;\n",
              "      border-right-color: var(--fill-color);\n",
              "      border-bottom-color: var(--fill-color);\n",
              "    }\n",
              "    90% {\n",
              "      border-color: transparent;\n",
              "      border-bottom-color: var(--fill-color);\n",
              "    }\n",
              "  }\n",
              "</style>\n",
              "\n",
              "  <script>\n",
              "    async function quickchart(key) {\n",
              "      const quickchartButtonEl =\n",
              "        document.querySelector('#' + key + ' button');\n",
              "      quickchartButtonEl.disabled = true;  // To prevent multiple clicks.\n",
              "      quickchartButtonEl.classList.add('colab-df-spinner');\n",
              "      try {\n",
              "        const charts = await google.colab.kernel.invokeFunction(\n",
              "            'suggestCharts', [key], {});\n",
              "      } catch (error) {\n",
              "        console.error('Error during call to suggestCharts:', error);\n",
              "      }\n",
              "      quickchartButtonEl.classList.remove('colab-df-spinner');\n",
              "      quickchartButtonEl.classList.add('colab-df-quickchart-complete');\n",
              "    }\n",
              "    (() => {\n",
              "      let quickchartButtonEl =\n",
              "        document.querySelector('#df-cc9b60e7-88a9-4e45-b895-2d7079b56ce4 button');\n",
              "      quickchartButtonEl.style.display =\n",
              "        google.colab.kernel.accessAllowed ? 'block' : 'none';\n",
              "    })();\n",
              "  </script>\n",
              "</div>\n",
              "\n",
              "  <div id=\"id_6adb7f29-7ba7-45c8-aefb-c3fc08cec7af\">\n",
              "    <style>\n",
              "      .colab-df-generate {\n",
              "        background-color: #E8F0FE;\n",
              "        border: none;\n",
              "        border-radius: 50%;\n",
              "        cursor: pointer;\n",
              "        display: none;\n",
              "        fill: #1967D2;\n",
              "        height: 32px;\n",
              "        padding: 0 0 0 0;\n",
              "        width: 32px;\n",
              "      }\n",
              "\n",
              "      .colab-df-generate:hover {\n",
              "        background-color: #E2EBFA;\n",
              "        box-shadow: 0px 1px 2px rgba(60, 64, 67, 0.3), 0px 1px 3px 1px rgba(60, 64, 67, 0.15);\n",
              "        fill: #174EA6;\n",
              "      }\n",
              "\n",
              "      [theme=dark] .colab-df-generate {\n",
              "        background-color: #3B4455;\n",
              "        fill: #D2E3FC;\n",
              "      }\n",
              "\n",
              "      [theme=dark] .colab-df-generate:hover {\n",
              "        background-color: #434B5C;\n",
              "        box-shadow: 0px 1px 3px 1px rgba(0, 0, 0, 0.15);\n",
              "        filter: drop-shadow(0px 1px 2px rgba(0, 0, 0, 0.3));\n",
              "        fill: #FFFFFF;\n",
              "      }\n",
              "    </style>\n",
              "    <button class=\"colab-df-generate\" onclick=\"generateWithVariable('corrM')\"\n",
              "            title=\"Generate code using this dataframe.\"\n",
              "            style=\"display:none;\">\n",
              "\n",
              "  <svg xmlns=\"http://www.w3.org/2000/svg\" height=\"24px\"viewBox=\"0 0 24 24\"\n",
              "       width=\"24px\">\n",
              "    <path d=\"M7,19H8.4L18.45,9,17,7.55,7,17.6ZM5,21V16.75L18.45,3.32a2,2,0,0,1,2.83,0l1.4,1.43a1.91,1.91,0,0,1,.58,1.4,1.91,1.91,0,0,1-.58,1.4L9.25,21ZM18.45,9,17,7.55Zm-12,3A5.31,5.31,0,0,0,4.9,8.1,5.31,5.31,0,0,0,1,6.5,5.31,5.31,0,0,0,4.9,4.9,5.31,5.31,0,0,0,6.5,1,5.31,5.31,0,0,0,8.1,4.9,5.31,5.31,0,0,0,12,6.5,5.46,5.46,0,0,0,6.5,12Z\"/>\n",
              "  </svg>\n",
              "    </button>\n",
              "    <script>\n",
              "      (() => {\n",
              "      const buttonEl =\n",
              "        document.querySelector('#id_6adb7f29-7ba7-45c8-aefb-c3fc08cec7af button.colab-df-generate');\n",
              "      buttonEl.style.display =\n",
              "        google.colab.kernel.accessAllowed ? 'block' : 'none';\n",
              "\n",
              "      buttonEl.onclick = () => {\n",
              "        google.colab.notebook.generateWithVariable('corrM');\n",
              "      }\n",
              "      })();\n",
              "    </script>\n",
              "  </div>\n",
              "\n",
              "    </div>\n",
              "  </div>\n"
            ],
            "application/vnd.google.colaboratory.intrinsic+json": {
              "type": "dataframe",
              "variable_name": "corrM",
              "summary": "{\n  \"name\": \"corrM\",\n  \"rows\": 3,\n  \"fields\": [\n    {\n      \"column\": \"A\",\n      \"properties\": {\n        \"dtype\": \"number\",\n        \"std\": 0.8047176082003276,\n        \"min\": -0.5833239888613888,\n        \"max\": 1.0,\n        \"num_unique_values\": 3,\n        \"samples\": [\n          1.0,\n          0.458388293641551,\n          -0.5833239888613888\n        ],\n        \"semantic_type\": \"\",\n        \"description\": \"\"\n      }\n    },\n    {\n      \"column\": \"B\",\n      \"properties\": {\n        \"dtype\": \"number\",\n        \"std\": 1.0284488569829988,\n        \"min\": -0.9892684579339881,\n        \"max\": 1.0,\n        \"num_unique_values\": 3,\n        \"samples\": [\n          0.458388293641551,\n          1.0,\n          -0.9892684579339881\n        ],\n        \"semantic_type\": \"\",\n        \"description\": \"\"\n      }\n    },\n    {\n      \"column\": \"C\",\n      \"properties\": {\n        \"dtype\": \"number\",\n        \"std\": 1.0511021805233496,\n        \"min\": -0.9892684579339881,\n        \"max\": 1.0,\n        \"num_unique_values\": 3,\n        \"samples\": [\n          -0.5833239888613888,\n          -0.9892684579339881,\n          1.0\n        ],\n        \"semantic_type\": \"\",\n        \"description\": \"\"\n      }\n    }\n  ]\n}"
            }
          },
          "metadata": {},
          "execution_count": 50
        }
      ]
    }
  ]
}